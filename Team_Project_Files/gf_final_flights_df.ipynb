{
 "cells": [
  {
   "cell_type": "code",
   "execution_count": null,
   "id": "f26f67a7-470d-45f3-9ee4-3a3eea28b5ac",
   "metadata": {},
   "outputs": [],
   "source": [
    "# Import Dependencies\n",
    "import pandas as pd\n",
    "import os\n",
    "import csv\n",
    "import matplotlib.pyplot as plt"
   ]
  },
  {
   "cell_type": "code",
   "execution_count": null,
   "id": "63e7a02c-848b-480b-972a-675b3e2227b2",
   "metadata": {},
   "outputs": [],
   "source": [
    "url = \"https://flightprojectnorthwestern.s3.us-east-2.amazonaws.com/flights_clean.csv\"\n",
    "\n",
    "flight_df = pd.read_csv(url)\n",
    "\n",
    "flight_df.head()"
   ]
  },
  {
   "cell_type": "code",
   "execution_count": null,
   "id": "2b93e868-8f43-4408-a0f8-90c72027a2c5",
   "metadata": {},
   "outputs": [],
   "source": [
    "passenger_count = flight_df[['Year','Total Passengers','Quarter']]\n",
    "# passenger_count.head()\n",
    "\n",
    "passenger_count_grouped = passenger_count.groupby(['Year', 'Quarter']).sum().reset_index()\n",
    "# passenger_count_grouped.head()\n",
    "\n",
    "\n",
    "passenger_count_grouped.plot(title = \"Total Passengers 2019-2021\",\n",
    "                kind = \"bar\",\n",
    "                figsize = (12,5),\n",
    "                x = \"Year\",\n",
    "                y = \"Total Passengers\",\n",
    "               )\n",
    "plt.xlabel('Year (Q1, Q2, Q3, Q4)')\n",
    "plt.ylabel('Passengers (Millions)')"
   ]
  },
  {
   "cell_type": "code",
   "execution_count": null,
   "id": "93c9dfb5-97d8-4428-8974-4b65434cae49",
   "metadata": {},
   "outputs": [],
   "source": [
    "passenger_count = flight_df[['Year','Total Passengers','Quarter']]\n",
    "# passenger_count.head()\n",
    "\n",
    "passenger_count_grouped = passenger_count.groupby(['Year', 'Quarter']).sum()['Total Passengers']\n",
    "# passenger_count_grouped.head()\n",
    "\n",
    "passenger_count_grouped.plot(kind='line', figsize=(12,5),color=\"blue\")\n",
    "plt.xlabel(\" Year \")\n",
    "plt.ylabel(\" Passengers (millions) \")\n",
    "plt.xticks(rotation=0, horizontalalignment='center')\n",
    "plt.title(\" Total Passengers 2019-2021 \")\n",
    "plt.show()"
   ]
  },
  {
   "cell_type": "code",
   "execution_count": null,
   "id": "4f75dec0-9d64-4a87-91de-e3f3662c1b13",
   "metadata": {},
   "outputs": [],
   "source": []
  }
 ],
 "metadata": {
  "kernelspec": {
   "display_name": "Python 3 (ipykernel)",
   "language": "python",
   "name": "python3"
  },
  "language_info": {
   "codemirror_mode": {
    "name": "ipython",
    "version": 3
   },
   "file_extension": ".py",
   "mimetype": "text/x-python",
   "name": "python",
   "nbconvert_exporter": "python",
   "pygments_lexer": "ipython3",
   "version": "3.9.12"
  }
 },
 "nbformat": 4,
 "nbformat_minor": 5
}
